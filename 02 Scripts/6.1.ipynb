{
 "cells": [
  {
   "cell_type": "code",
   "execution_count": 47,
   "metadata": {},
   "outputs": [],
   "source": [
    "# Import libraries\n",
    "import pandas as pd\n",
    "import numpy as np\n",
    "import os\n",
    "import matplotlib.pyplot as plt\n",
    "import seaborn as sns\n",
    "import scipy"
   ]
  },
  {
   "cell_type": "code",
   "execution_count": 71,
   "metadata": {},
   "outputs": [],
   "source": [
    "df = pd.read_csv(r'/Users/matthewerrington/Downloads/airbnb_jan8b - Sheet1.csv', index_col = False)"
   ]
  },
  {
   "cell_type": "code",
   "execution_count": 72,
   "metadata": {},
   "outputs": [
    {
     "data": {
      "text/html": [
       "<div>\n",
       "<style scoped>\n",
       "    .dataframe tbody tr th:only-of-type {\n",
       "        vertical-align: middle;\n",
       "    }\n",
       "\n",
       "    .dataframe tbody tr th {\n",
       "        vertical-align: top;\n",
       "    }\n",
       "\n",
       "    .dataframe thead th {\n",
       "        text-align: right;\n",
       "    }\n",
       "</style>\n",
       "<table border=\"1\" class=\"dataframe\">\n",
       "  <thead>\n",
       "    <tr style=\"text-align: right;\">\n",
       "      <th></th>\n",
       "      <th>search</th>\n",
       "      <th>airbnb-href</th>\n",
       "      <th>rating</th>\n",
       "      <th>reviews</th>\n",
       "      <th>city</th>\n",
       "      <th>price</th>\n",
       "      <th>type</th>\n",
       "      <th>population</th>\n",
       "      <th>michelin</th>\n",
       "      <th>mich_pop</th>\n",
       "    </tr>\n",
       "  </thead>\n",
       "  <tbody>\n",
       "    <tr>\n",
       "      <th>0</th>\n",
       "      <td>Toulon</td>\n",
       "      <td>https://www.airbnb.com/rooms/27745967?adults=2...</td>\n",
       "      <td>NaN</td>\n",
       "      <td>NaN</td>\n",
       "      <td>Toulon, Provence-Alpes-Côte d'Azur, France</td>\n",
       "      <td>NaN</td>\n",
       "      <td>NaN</td>\n",
       "      <td>171953</td>\n",
       "      <td>NaN</td>\n",
       "      <td>NaN</td>\n",
       "    </tr>\n",
       "    <tr>\n",
       "      <th>1</th>\n",
       "      <td>Saint-Étienne</td>\n",
       "      <td>https://www.airbnb.com/rooms/46489673?adults=2...</td>\n",
       "      <td>NaN</td>\n",
       "      <td>NaN</td>\n",
       "      <td>Saint-Priest-en-Jarez, Auvergne-Rhône-Alpes, F...</td>\n",
       "      <td>NaN</td>\n",
       "      <td>Entire home</td>\n",
       "      <td>172565</td>\n",
       "      <td>NaN</td>\n",
       "      <td>NaN</td>\n",
       "    </tr>\n",
       "    <tr>\n",
       "      <th>2</th>\n",
       "      <td>Saint-Étienne</td>\n",
       "      <td>https://www.airbnb.com/rooms/46922331?adults=2...</td>\n",
       "      <td>NaN</td>\n",
       "      <td>NaN</td>\n",
       "      <td>Saint-Étienne, Auvergne-Rhône-Alpes, France</td>\n",
       "      <td>NaN</td>\n",
       "      <td>Entire home</td>\n",
       "      <td>172565</td>\n",
       "      <td>NaN</td>\n",
       "      <td>NaN</td>\n",
       "    </tr>\n",
       "    <tr>\n",
       "      <th>3</th>\n",
       "      <td>Saint-Étienne</td>\n",
       "      <td>https://www.airbnb.com/rooms/46095645?adults=2...</td>\n",
       "      <td>NaN</td>\n",
       "      <td>NaN</td>\n",
       "      <td>Saint-Étienne, Auvergne-Rhône-Alpes, France</td>\n",
       "      <td>NaN</td>\n",
       "      <td>Entire home</td>\n",
       "      <td>172565</td>\n",
       "      <td>NaN</td>\n",
       "      <td>NaN</td>\n",
       "    </tr>\n",
       "    <tr>\n",
       "      <th>4</th>\n",
       "      <td>Saint-Étienne</td>\n",
       "      <td>https://www.airbnb.com/rooms/46029264?adults=2...</td>\n",
       "      <td>NaN</td>\n",
       "      <td>NaN</td>\n",
       "      <td>Saint-Étienne, Auvergne-Rhône-Alpes, France</td>\n",
       "      <td>NaN</td>\n",
       "      <td>Entire home</td>\n",
       "      <td>172565</td>\n",
       "      <td>NaN</td>\n",
       "      <td>NaN</td>\n",
       "    </tr>\n",
       "  </tbody>\n",
       "</table>\n",
       "</div>"
      ],
      "text/plain": [
       "          search                                        airbnb-href  rating  \\\n",
       "0         Toulon  https://www.airbnb.com/rooms/27745967?adults=2...     NaN   \n",
       "1  Saint-Étienne  https://www.airbnb.com/rooms/46489673?adults=2...     NaN   \n",
       "2  Saint-Étienne  https://www.airbnb.com/rooms/46922331?adults=2...     NaN   \n",
       "3  Saint-Étienne  https://www.airbnb.com/rooms/46095645?adults=2...     NaN   \n",
       "4  Saint-Étienne  https://www.airbnb.com/rooms/46029264?adults=2...     NaN   \n",
       "\n",
       "   reviews                                               city  price  \\\n",
       "0      NaN         Toulon, Provence-Alpes-Côte d'Azur, France    NaN   \n",
       "1      NaN  Saint-Priest-en-Jarez, Auvergne-Rhône-Alpes, F...    NaN   \n",
       "2      NaN        Saint-Étienne, Auvergne-Rhône-Alpes, France    NaN   \n",
       "3      NaN        Saint-Étienne, Auvergne-Rhône-Alpes, France    NaN   \n",
       "4      NaN        Saint-Étienne, Auvergne-Rhône-Alpes, France    NaN   \n",
       "\n",
       "          type  population  michelin  mich_pop  \n",
       "0          NaN      171953       NaN       NaN  \n",
       "1  Entire home      172565       NaN       NaN  \n",
       "2  Entire home      172565       NaN       NaN  \n",
       "3  Entire home      172565       NaN       NaN  \n",
       "4  Entire home      172565       NaN       NaN  "
      ]
     },
     "execution_count": 72,
     "metadata": {},
     "output_type": "execute_result"
    }
   ],
   "source": [
    "df.head()"
   ]
  },
  {
   "cell_type": "code",
   "execution_count": 73,
   "metadata": {},
   "outputs": [
    {
     "data": {
      "text/plain": [
       "(6653, 10)"
      ]
     },
     "execution_count": 73,
     "metadata": {},
     "output_type": "execute_result"
    }
   ],
   "source": [
    "df.shape"
   ]
  },
  {
   "cell_type": "code",
   "execution_count": 74,
   "metadata": {},
   "outputs": [
    {
     "data": {
      "text/html": [
       "<div>\n",
       "<style scoped>\n",
       "    .dataframe tbody tr th:only-of-type {\n",
       "        vertical-align: middle;\n",
       "    }\n",
       "\n",
       "    .dataframe tbody tr th {\n",
       "        vertical-align: top;\n",
       "    }\n",
       "\n",
       "    .dataframe thead th {\n",
       "        text-align: right;\n",
       "    }\n",
       "</style>\n",
       "<table border=\"1\" class=\"dataframe\">\n",
       "  <thead>\n",
       "    <tr style=\"text-align: right;\">\n",
       "      <th></th>\n",
       "      <th>rating</th>\n",
       "      <th>reviews</th>\n",
       "      <th>price</th>\n",
       "      <th>population</th>\n",
       "      <th>michelin</th>\n",
       "      <th>mich_pop</th>\n",
       "    </tr>\n",
       "  </thead>\n",
       "  <tbody>\n",
       "    <tr>\n",
       "      <th>count</th>\n",
       "      <td>6043.000000</td>\n",
       "      <td>6358.000000</td>\n",
       "      <td>5351.000000</td>\n",
       "      <td>6.653000e+03</td>\n",
       "      <td>5429.000000</td>\n",
       "      <td>5429.000000</td>\n",
       "    </tr>\n",
       "    <tr>\n",
       "      <th>mean</th>\n",
       "      <td>4.721213</td>\n",
       "      <td>87.321327</td>\n",
       "      <td>60.496916</td>\n",
       "      <td>4.312278e+05</td>\n",
       "      <td>13.276110</td>\n",
       "      <td>98931.487340</td>\n",
       "    </tr>\n",
       "    <tr>\n",
       "      <th>std</th>\n",
       "      <td>0.227229</td>\n",
       "      <td>103.717083</td>\n",
       "      <td>23.263271</td>\n",
       "      <td>4.882351e+05</td>\n",
       "      <td>29.484327</td>\n",
       "      <td>71451.140655</td>\n",
       "    </tr>\n",
       "    <tr>\n",
       "      <th>min</th>\n",
       "      <td>1.800000</td>\n",
       "      <td>1.000000</td>\n",
       "      <td>12.000000</td>\n",
       "      <td>1.584540e+05</td>\n",
       "      <td>1.000000</td>\n",
       "      <td>19021.965220</td>\n",
       "    </tr>\n",
       "    <tr>\n",
       "      <th>25%</th>\n",
       "      <td>4.610000</td>\n",
       "      <td>17.000000</td>\n",
       "      <td>45.000000</td>\n",
       "      <td>1.824600e+05</td>\n",
       "      <td>2.000000</td>\n",
       "      <td>36492.000000</td>\n",
       "    </tr>\n",
       "    <tr>\n",
       "      <th>50%</th>\n",
       "      <td>4.770000</td>\n",
       "      <td>52.000000</td>\n",
       "      <td>56.000000</td>\n",
       "      <td>2.809660e+05</td>\n",
       "      <td>5.000000</td>\n",
       "      <td>72271.666670</td>\n",
       "    </tr>\n",
       "    <tr>\n",
       "      <th>75%</th>\n",
       "      <td>4.890000</td>\n",
       "      <td>117.000000</td>\n",
       "      <td>72.000000</td>\n",
       "      <td>4.795530e+05</td>\n",
       "      <td>6.000000</td>\n",
       "      <td>143885.000000</td>\n",
       "    </tr>\n",
       "    <tr>\n",
       "      <th>max</th>\n",
       "      <td>5.000000</td>\n",
       "      <td>792.000000</td>\n",
       "      <td>414.000000</td>\n",
       "      <td>2.187526e+06</td>\n",
       "      <td>115.000000</td>\n",
       "      <td>285121.000000</td>\n",
       "    </tr>\n",
       "  </tbody>\n",
       "</table>\n",
       "</div>"
      ],
      "text/plain": [
       "            rating      reviews        price    population     michelin  \\\n",
       "count  6043.000000  6358.000000  5351.000000  6.653000e+03  5429.000000   \n",
       "mean      4.721213    87.321327    60.496916  4.312278e+05    13.276110   \n",
       "std       0.227229   103.717083    23.263271  4.882351e+05    29.484327   \n",
       "min       1.800000     1.000000    12.000000  1.584540e+05     1.000000   \n",
       "25%       4.610000    17.000000    45.000000  1.824600e+05     2.000000   \n",
       "50%       4.770000    52.000000    56.000000  2.809660e+05     5.000000   \n",
       "75%       4.890000   117.000000    72.000000  4.795530e+05     6.000000   \n",
       "max       5.000000   792.000000   414.000000  2.187526e+06   115.000000   \n",
       "\n",
       "            mich_pop  \n",
       "count    5429.000000  \n",
       "mean    98931.487340  \n",
       "std     71451.140655  \n",
       "min     19021.965220  \n",
       "25%     36492.000000  \n",
       "50%     72271.666670  \n",
       "75%    143885.000000  \n",
       "max    285121.000000  "
      ]
     },
     "execution_count": 74,
     "metadata": {},
     "output_type": "execute_result"
    }
   ],
   "source": [
    "df.describe()"
   ]
  },
  {
   "cell_type": "code",
   "execution_count": 75,
   "metadata": {},
   "outputs": [
    {
     "name": "stdout",
     "output_type": "stream",
     "text": [
      "<class 'pandas.core.frame.DataFrame'>\n",
      "RangeIndex: 6653 entries, 0 to 6652\n",
      "Data columns (total 10 columns):\n",
      " #   Column       Non-Null Count  Dtype  \n",
      "---  ------       --------------  -----  \n",
      " 0   search       6653 non-null   object \n",
      " 1   airbnb-href  6653 non-null   object \n",
      " 2   rating       6043 non-null   float64\n",
      " 3   reviews      6358 non-null   float64\n",
      " 4   city         6647 non-null   object \n",
      " 5   price        5351 non-null   float64\n",
      " 6   type         6574 non-null   object \n",
      " 7   population   6653 non-null   int64  \n",
      " 8   michelin     5429 non-null   float64\n",
      " 9   mich_pop     5429 non-null   float64\n",
      "dtypes: float64(5), int64(1), object(4)\n",
      "memory usage: 519.9+ KB\n"
     ]
    }
   ],
   "source": [
    "df.info()"
   ]
  },
  {
   "cell_type": "code",
   "execution_count": 76,
   "metadata": {},
   "outputs": [
    {
     "data": {
      "text/plain": [
       "<matplotlib.axes._subplots.AxesSubplot at 0x7feb9deb3b20>"
      ]
     },
     "execution_count": 76,
     "metadata": {},
     "output_type": "execute_result"
    },
    {
     "data": {
      "image/png": "[encoded data removed]",
      "text/plain": [
       "<Figure size 432x288 with 1 Axes>"
      ]
     },
     "metadata": {
      "needs_background": "light"
     },
     "output_type": "display_data"
    }
   ],
   "source": [
    "df['search'].value_counts().plot.bar()\n"
   ]
  },
  {
   "cell_type": "code",
   "execution_count": 77,
   "metadata": {},
   "outputs": [
    {
     "data": {
      "text/plain": [
       "<matplotlib.axes._subplots.AxesSubplot at 0x7feb9dde1b50>"
      ]
     },
     "execution_count": 77,
     "metadata": {},
     "output_type": "execute_result"
    },
    {
     "data": {
      "image/png": "[encoded data removed]",
      "text/plain": [
       "<Figure size 432x288 with 1 Axes>"
      ]
     },
     "metadata": {
      "needs_background": "light"
     },
     "output_type": "display_data"
    }
   ],
   "source": [
    "sns.scatterplot(x = 'reviews', y = 'price', data = df)\n"
   ]
  },
  {
   "cell_type": "code",
   "execution_count": 78,
   "metadata": {},
   "outputs": [
    {
     "data": {
      "image/png": "[encoded data removed]",
      "text/plain": [
       "<Figure size 432x288 with 1 Axes>"
      ]
     },
     "metadata": {
      "needs_background": "light"
     },
     "output_type": "display_data"
    }
   ],
   "source": [
    "hist = df['price'].plot.hist(bins = 75)\n"
   ]
  },
  {
   "cell_type": "code",
   "execution_count": 79,
   "metadata": {},
   "outputs": [
    {
     "data": {
      "image/png": "[encoded data removed]",
      "text/plain": [
       "<Figure size 432x288 with 1 Axes>"
      ]
     },
     "metadata": {
      "needs_background": "light"
     },
     "output_type": "display_data"
    }
   ],
   "source": [
    "hist2 = df['reviews'].plot.hist(bins = 75)"
   ]
  },
  {
   "cell_type": "code",
   "execution_count": 80,
   "metadata": {},
   "outputs": [
    {
     "data": {
      "text/plain": [
       "<matplotlib.axes._subplots.AxesSubplot at 0x7feb9e686bb0>"
      ]
     },
     "execution_count": 80,
     "metadata": {},
     "output_type": "execute_result"
    },
    {
     "data": {
      "image/png": "[encoded data removed]",
      "text/plain": [
       "<Figure size 432x288 with 1 Axes>"
      ]
     },
     "metadata": {
      "needs_background": "light"
     },
     "output_type": "display_data"
    }
   ],
   "source": [
    "sns.scatterplot(x = 'population', y = 'price', data = df)\n"
   ]
  },
  {
   "cell_type": "code",
   "execution_count": 81,
   "metadata": {},
   "outputs": [
    {
     "data": {
      "text/plain": [
       "<matplotlib.axes._subplots.AxesSubplot at 0x7feb9e428b80>"
      ]
     },
     "execution_count": 81,
     "metadata": {},
     "output_type": "execute_result"
    },
    {
     "data": {
      "image/png": "[encoded data removed]",
      "text/plain": [
       "<Figure size 432x288 with 1 Axes>"
      ]
     },
     "metadata": {
      "needs_background": "light"
     },
     "output_type": "display_data"
    }
   ],
   "source": [
    "sns.scatterplot(x = 'population', y = 'michelin', data = df)\n"
   ]
  },
  {
   "cell_type": "code",
   "execution_count": null,
   "metadata": {},
   "outputs": [],
   "source": []
  }
 ],
 "metadata": {
  "kernelspec": {
   "display_name": "Python 3",
   "language": "python",
   "name": "python3"
  },
  "language_info": {
   "codemirror_mode": {
    "name": "ipython",
    "version": 3
   },
   "file_extension": ".py",
   "mimetype": "text/x-python",
   "name": "python",
   "nbconvert_exporter": "python",
   "pygments_lexer": "ipython3",
   "version": "3.8.3"
  }
 },
 "nbformat": 4,
 "nbformat_minor": 4
}
